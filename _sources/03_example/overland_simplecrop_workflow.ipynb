{
 "cells": [
  {
   "cell_type": "markdown",
   "id": "fatty-austin",
   "metadata": {},
   "source": [
    "# Combining Overland Flow and Simple Crop\n",
    "\n",
    "## Running Overland Flow on its Own\n",
    "\n",
    "The overland flow model routes water over a landscape and determines how much water infiltrates particular cells in response to rain events and elevation data. Rainfall in this model is assumed to occur instantaneously and rainfall events are assumed to be independent (so a large rainfall event on a previous day has no bearing on the present day).\n",
    "\n",
    "In order to run the model we first need to import some source and sink types as well as classes for calling off to CLI models and building requests."
   ]
  },
  {
   "cell_type": "code",
   "execution_count": 1,
   "id": "brutal-justice",
   "metadata": {},
   "outputs": [],
   "source": [
    "import itertools\n",
    "\n",
    "import os.path\n",
    "import netCDF4\n",
    "from meillionen import FunctionModelCLI, \\\n",
    "    file_source, feather_source, feather_sink, \\\n",
    "    netcdf_sink, file_sink, parquet_sink, parquet_source\n",
    "from meillionen.io import PandasLoader, PandasSaver\n",
    "from meillionen.meillionen import FuncRequest\n",
    "from prefect import task, Flow\n",
    "\n",
    "\n",
    "BASE_DIR = '../../examples/crop-pipeline'\n",
    "\n",
    "INPUT_DIR = os.path.join(BASE_DIR, 'workflows/inputs')\n",
    "OUTPUT_DIR = os.path.join(BASE_DIR, 'workflows/outputs')"
   ]
  },
  {
   "cell_type": "markdown",
   "id": "following-tiffany",
   "metadata": {},
   "source": [
    " We also need to create sources and sinks to describe our data"
   ]
  },
  {
   "cell_type": "code",
   "execution_count": 2,
   "id": "ancient-internet",
   "metadata": {},
   "outputs": [],
   "source": [
    "elevation = file_source(os.path.join(INPUT_DIR, \"hugo_site.asc\"))\n",
    "\n",
    "weather = feather_source(os.path.join(INPUT_DIR, \"rainfall.feather\"))\n",
    "\n",
    "swid = netcdf_sink({\n",
    "    \"type\": \"NetCDFResource\",\n",
    "    \"path\": os.path.join(OUTPUT_DIR, \"swid.nc\"),\n",
    "    \"variable\": \"soil_water_infiltration__depth\",\n",
    "    \"data_type\": \"Float32\",\n",
    "    \"slices\": {}\n",
    "})"
   ]
  },
  {
   "cell_type": "markdown",
   "id": "bizarre-color",
   "metadata": {},
   "source": [
    "and build a request to call our model with."
   ]
  },
  {
   "cell_type": "code",
   "execution_count": 3,
   "id": "anonymous-encyclopedia",
   "metadata": {},
   "outputs": [],
   "source": [
    "overlandflow_req = FuncRequest()\n",
    "overlandflow_req.set_source('elevation', elevation)\n",
    "overlandflow_req.set_source('weather', weather)\n",
    "overlandflow_req.set_sink('soil_water_infiltration__depth', swid)\n",
    "\n",
    "overlandflow = FunctionModelCLI.from_path(os.path.join(BASE_DIR, 'overlandflow/model.py'))"
   ]
  },
  {
   "cell_type": "markdown",
   "id": "synthetic-merit",
   "metadata": {},
   "source": [
    "Then call the overland flow model with our request (which will create files on the file system)"
   ]
  },
  {
   "cell_type": "code",
   "execution_count": 4,
   "id": "hindu-still",
   "metadata": {},
   "outputs": [],
   "source": [
    "overlandflow(overlandflow_req)"
   ]
  },
  {
   "cell_type": "markdown",
   "source": [
    "## Running Simple Crop on its Own\n",
    "\n",
    "`simplecrop`  is a model of yearly crop growth that operates on the command line. When called in the current directory with no arguments it expects that there is an data folder to be present. It expects that the data folder contains five files\n",
    "\n",
    "- `irrig.inp` - daily irrigation\n",
    "- `plant.inp` - plant growth parameters for the simulation\n",
    "- `simctrl.inp` - simulation reporting parameters\n",
    "- `soil.inp` - soil characteristic parameters for the simulation\n",
    "- `weather.inp` - daily weather data (with variables like maximum temperature, solar energy flux)\n",
    "\n",
    "`simplecrop` also expects there to be an output folder. After the model has run it will populate the output folder with three files\n",
    "\n",
    "- `plant.out`- daily plant characteristics\n",
    "- `soil.out` - daily soil characteristics\n",
    "- `wbal.out` - summary soil and plant statistics about simulation\n",
    "\n",
    "In order to wrap this model in an interface that allows you to run the model without manually building those input files and manually converting the output files into a format conducive to analysis we need to have a construct the input files and parse the output files. Fortunately we have such a model wrapper already."
   ],
   "metadata": {
    "collapsed": false
   }
  },
  {
   "cell_type": "code",
   "execution_count": null,
   "outputs": [],
   "source": [
    "from meillionen import FunctionModelCLI, feather_sink, feather_source, file_sink\n",
    "from meillionen.meillionen import FuncRequest\n",
    "import pandas as pd\n",
    "\n",
    "run_simple_crop = FunctionModelCLI.from_path('simplecrop')"
   ],
   "metadata": {
    "collapsed": false,
    "pycharm": {
     "name": "#%%\n"
    }
   }
  },
  {
   "cell_type": "code",
   "execution_count": null,
   "outputs": [],
   "source": [
    "daily = feather_source(os.path.join(BASE_DIR, 'simplecrop/data/daily.feather'))\n",
    "yearly = feather_source(os.path.join(BASE_DIR, 'simplecrop/data/yearly.feather'))\n",
    "plant = feather_sink(os.path.join(OUTPUT_DIR, 'plant.feather'))\n",
    "soil = feather_sink(os.path.join(OUTPUT_DIR, 'soil.feather'))\n",
    "tempdir = file_sink('tmp')\n",
    "\n",
    "fr = FuncRequest()\n",
    "fr.set_source('daily', daily)\n",
    "fr.set_source('yearly', yearly)\n",
    "fr.set_sink('plant', plant)\n",
    "fr.set_sink('soil', soil)\n",
    "fr.set_sink('tempdir', tempdir)"
   ],
   "metadata": {
    "collapsed": false,
    "pycharm": {
     "name": "#%%\n"
    }
   }
  },
  {
   "cell_type": "code",
   "execution_count": null,
   "outputs": [],
   "source": [
    "run_simple_crop(fr)"
   ],
   "metadata": {
    "collapsed": false,
    "pycharm": {
     "name": "#%%\n"
    }
   }
  },
  {
   "cell_type": "code",
   "execution_count": null,
   "outputs": [],
   "source": [
    "soil_df = pd.read_feather(os.path.join(OUTPUT_DIR, 'soil.feather'))\n",
    "soil_df"
   ],
   "metadata": {
    "collapsed": false,
    "pycharm": {
     "name": "#%%\n"
    }
   }
  },
  {
   "cell_type": "markdown",
   "source": [
    "## Using Prefect to Feed Overland Flow Results into Simple Crop"
   ],
   "metadata": {
    "collapsed": false
   }
  },
  {
   "cell_type": "code",
   "execution_count": null,
   "outputs": [],
   "source": [
    "overlandflow = FunctionModelCLI.from_path(os.path.join(BASE_DIR, 'overlandflow/model.py'))\n",
    "simplecrop = FunctionModelCLI.from_path('simplecrop')\n",
    "\n",
    "\n",
    "@task()\n",
    "def run_overland_flow():\n",
    "    elevation = file_source(os.path.join(INPUT_DIR, \"hugo_site.asc\"))\n",
    "    weather = feather_source(os.path.join(BASE_DIR, \"overlandflow/rainfall.feather\"))\n",
    "    swid = netcdf_sink({\n",
    "        \"type\": \"NetCDFResource\",\n",
    "        \"path\": f\"{OUTPUT_DIR}/swid.nc\",\n",
    "        \"variable\": \"soil_water_infiltration__depth\",\n",
    "        \"data_type\": \"Float32\",\n",
    "        \"slices\": {}\n",
    "    })\n",
    "\n",
    "    overlandflow_req = FuncRequest()\n",
    "    overlandflow_req.set_source('elevation', elevation)\n",
    "    overlandflow_req.set_source('weather', weather)\n",
    "    overlandflow_req.set_sink('soil_water_infiltration__depth', swid)\n",
    "\n",
    "    overlandflow(overlandflow_req)\n",
    "\n",
    "    return swid\n",
    "\n",
    "\n",
    "@task()\n",
    "def chunkify_soil_water_infiltration_depth(swid):\n",
    "    swid = swid.to_dict()\n",
    "    ds = netCDF4.Dataset(swid['path'], 'r')\n",
    "    variable = ds[swid['variable']]\n",
    "    x_d, y_d, time_d = variable.get_dims()\n",
    "    return [{'soil_water_infiltration__depth': variable[x, y, :], 'x': x, 'y': y} for (x,y) in itertools.product(range(10,12), range(21,23))]\n",
    "\n",
    "\n",
    "@task()\n",
    "def convert_swid_chunk_to_simplecrop(c):\n",
    "    return {'daily': daily, 'yearly': yearly, **c}\n",
    "\n",
    "\n",
    "@task()\n",
    "def simplecrop_process_chunk(data):\n",
    "    yearly = data['yearly']\n",
    "    daily = data['daily']\n",
    "    soil_water_infiltration__depth = data['soil_water_infiltration__depth']\n",
    "    x = data['x']\n",
    "    y = data['y']\n",
    "    d = PandasLoader.load(daily)\n",
    "    d['rainfall'] = soil_water_infiltration__depth\n",
    "    d_resource = parquet_source(os.path.join(OUTPUT_DIR, f'outputs/daily/{x}/{y}.feather'))\n",
    "    PandasSaver.save(d_resource, d)\n",
    "\n",
    "    plant = parquet_sink(os.path.join(OUTPUT_DIR, f'plant/{x}/{y}/data.parquet'))\n",
    "    soil = parquet_sink(os.path.join(OUTPUT_DIR, f'soil/{x}/{y}/data.parquet'))\n",
    "    tempdir = file_sink(os.path.join(OUTPUT_DIR, f'temp/{x}/{y}'))\n",
    "    sc_req = FuncRequest()\n",
    "    sc_req.set_source('daily', d_resource)\n",
    "    sc_req.set_source('yearly', yearly)\n",
    "    sc_req.set_sink('plant', plant)\n",
    "    sc_req.set_sink('soil', soil)\n",
    "    sc_req.set_sink('tempdir', tempdir)\n",
    "\n",
    "    simplecrop(sc_req)\n",
    "\n",
    "\n",
    "daily = feather_source(os.path.join(BASE_DIR, 'simplecrop/data/daily.feather'))\n",
    "yearly = feather_source(os.path.join(BASE_DIR, 'simplecrop/data/yearly.feather'))\n",
    "\n",
    "\n",
    "with Flow('crop_pipeline') as flow:\n",
    "    overland_flow = run_overland_flow()\n",
    "    surface_water_depth_chunks = chunkify_soil_water_infiltration_depth(overland_flow)\n",
    "    simplecrop_chunks = convert_swid_chunk_to_simplecrop.map(surface_water_depth_chunks)\n",
    "    yield_chunks = simplecrop_process_chunk.map(simplecrop_chunks)\n",
    "\n",
    "flow.run()\n"
   ],
   "metadata": {
    "collapsed": false,
    "pycharm": {
     "name": "#%%\n"
    }
   }
  }
 ],
 "metadata": {
  "kernelspec": {
   "display_name": "Python 3",
   "language": "python",
   "name": "python3"
  },
  "language_info": {
   "codemirror_mode": {
    "name": "ipython",
    "version": 3
   },
   "file_extension": ".py",
   "mimetype": "text/x-python",
   "name": "python",
   "nbconvert_exporter": "python",
   "pygments_lexer": "ipython3",
   "version": "3.8.5"
  }
 },
 "nbformat": 4,
 "nbformat_minor": 5
}