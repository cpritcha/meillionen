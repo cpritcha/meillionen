{
 "cells": [
  {
   "cell_type": "markdown",
   "metadata": {
    "pycharm": {
     "name": "#%% md\n"
    }
   },
   "source": [
    "# Roadmap\n",
    "\n",
    "The first generally released version of `meillionen` aims to provide\n",
    "\n",
    "### `meillionen-mt`\n",
    "\n",
    "- support f32, f64, string and time stamp datatypes in NetCDF\n",
    "- add memory backend (will be a Python class with a function to convert to a NetCDF store)\n",
    "- unit of measure and storage type mismatches make no attempt to coerce values, just fail with a useful error message\n",
    "- cli interface for running models\n",
    "\n",
    "    ```python\n",
    "    import meillionen_cli as cli\n",
    "    from landlab import Overland\n",
    "\n",
    "    if __name__ == '__main__':\n",
    "     import sys\n",
    "     ov = Overland()\n",
    "     ov.initialize_from_cli(sys.argv)\n",
    "     ov.update()\n",
    "     ov.finalize()\n",
    "    ```\n",
    "\n",
    "Passing information to a model will be done by config files. A config file could look something like\n",
    "\n",
    "```yaml\n",
    "---\n",
    "model:\n",
    "  name: 'simplecrop'\n",
    "  variables:\n",
    "    - source: 'surface_water__depth'\n",
    "      target: 'infiltration_water__depth'\n",
    "      store: 'overland'\n",
    "  stores:\n",
    "    - name: 'overland'\n",
    "      file: 'overland.nc'\n",
    "```\n",
    "\n",
    "The example of Overland and SimpleCrop coupling will have:\n",
    "\n",
    "- SimpleCrop, Overland will be in their own Docker images and will be accessible as command line programs\n",
    "- SimpleCrop will support all its configuration options\n",
    "- SimpleCrop's output data will be compatible with `meillionen`'s store API\n",
    "- Show how replacement of OverlandFlow with `r.watershed` in GRASS is seamless\n",
    "- Analysis of workflow results will be shown so that users can see how to make use of `meillionen` stores outside\n",
    "  of an already wrapped model\n",
    "\n",
    "Soon after subsequent versions aim to provide `meillionen-orchestrator`. Subsequent versions of `meillionen-mt` will\n",
    "work on moving specific store implementations to their own packages like `meillionen-store-netcdf` and\n",
    "`meillionen-store-arrow`.\n",
    "\n",
    "### `meillionen-orchestrator`\n",
    "\n",
    "`meillionen-orchestrator` will be library to wire components together and run the model by delegating to some scheduler\n",
    "library (since model components have many initialization configuration options it will help to have one place to change\n",
    "a coupled model run).\n",
    "\n",
    "```python\n",
    "import meillionen_orchestrator as mo\n",
    "import pandas as pd\n",
    "\n",
    "def get_daily_data(path):\n",
    "    pass\n",
    "\n",
    "# csdms/landlab is a fat image containing pymt/meillionen compatible versions of landlab models\n",
    "ov = mo.ModelRef(image='csdms/landlab', model='Overland')\n",
    "# agmip/dssat is a fat image containing pymt/meillionen compatible versions of dssat models\n",
    "sc = mo.ModelRef(image='agmip/dssat', model='SimpleCrop')\n",
    "\n",
    "coupled = mo.DagCoupledModel()\n",
    "coupled.add_model('ov', ov)\n",
    "coupled.add_model('sc', sc)\n",
    "coupled.add_edge('ov', 'surface_water__depth', 'sc', 'infiltration_water_depth')\n",
    "coupled.set_scheduler(mo.LuigiScheduler())\n",
    "# options that enable configuration setup\n",
    "coupled.add_option('daily_data', get_daily_data, options={'target': 'sc'})\n",
    "\n",
    "if __name__ == '__main__':\n",
    "  import sys\n",
    "  coupled.initialize_from_cli(sys.argv, exit_on_fail=True)\n",
    "  coupled.update()\n",
    "  coupled.finalize()\n",
    "```"
   ]
  }
 ],
 "metadata": {
  "kernelspec": {
   "display_name": "Python 3",
   "language": "python",
   "name": "python3"
  },
  "language_info": {
   "codemirror_mode": {
    "name": "ipython",
    "version": 3
   },
   "file_extension": ".py",
   "mimetype": "text/x-python",
   "name": "python",
   "nbconvert_exporter": "python",
   "pygments_lexer": "ipython3",
   "version": "3.8.0"
  },
  "widgets": {
   "application/vnd.jupyter.widget-state+json": {
    "state": {},
    "version_major": 2,
    "version_minor": 0
   }
  }
 },
 "nbformat": 4,
 "nbformat_minor": 4
}