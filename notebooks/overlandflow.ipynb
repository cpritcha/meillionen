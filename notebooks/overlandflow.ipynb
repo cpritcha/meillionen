{
 "cells": [
  {
   "cell_type": "markdown",
   "id": "fatty-austin",
   "metadata": {},
   "source": [
    "# Overland Flow Model\n",
    "\n",
    "The overland flow model routes water over a landscape and determines how much water infiltrates particular cells in response to rain events and elevation data. Rainfall in this model is assumed to occur instantaneously and rainfall events are assumed to be independent (so a large rainfall event on a previous day has no bearing on the present day).\n",
    "\n",
    "In order to run the model we first need to import some source and sink types as well as classes for calling off to CLI models and building requests."
   ]
  },
  {
   "cell_type": "code",
   "execution_count": 1,
   "id": "brutal-justice",
   "metadata": {},
   "outputs": [],
   "source": [
    "from meillionen import FunctionModelCLI, netcdf_sink, netcdf_source, feather_source, file_source\n",
    "from meillionen.meillionen import FuncRequest"
   ]
  },
  {
   "cell_type": "markdown",
   "id": "following-tiffany",
   "metadata": {},
   "source": [
    " We also need to create sources and sinks to describe our data"
   ]
  },
  {
   "cell_type": "code",
   "execution_count": 2,
   "id": "ancient-internet",
   "metadata": {},
   "outputs": [],
   "source": [
    "elevation = file_source(\"../examples/crop-pipeline/workflows/inputs/hugo_site.asc\")\n",
    "\n",
    "weather = feather_source(\"../examples/crop-pipeline/overlandflow/rainfall.feather\")\n",
    "\n",
    "swid = netcdf_sink({\n",
    "    \"type\": \"NetCDFResource\",\n",
    "    \"path\": \"../examples/crop-pipeline/workflows/outputs/swid.nc\",\n",
    "    \"variable\": \"soil_water_infiltration__depth\",\n",
    "    \"data_type\": \"Float32\",\n",
    "    \"slices\": {}\n",
    "})"
   ]
  },
  {
   "cell_type": "markdown",
   "id": "bizarre-color",
   "metadata": {},
   "source": [
    "and build a request to call our model with."
   ]
  },
  {
   "cell_type": "code",
   "execution_count": 3,
   "id": "anonymous-encyclopedia",
   "metadata": {},
   "outputs": [],
   "source": [
    "overlandflow_req = FuncRequest()\n",
    "overlandflow_req.set_source('elevation', elevation)\n",
    "overlandflow_req.set_source('weather', weather)\n",
    "overlandflow_req.set_sink('soil_water_infiltration__depth', swid)\n",
    "\n",
    "overlandflow = FunctionModelCLI.from_path('../examples/crop-pipeline/overlandflow/model.py')"
   ]
  },
  {
   "cell_type": "markdown",
   "id": "synthetic-merit",
   "metadata": {},
   "source": [
    "Then call the overland flow model with our request (which will create files on the file system)"
   ]
  },
  {
   "cell_type": "code",
   "execution_count": 4,
   "id": "hindu-still",
   "metadata": {},
   "outputs": [],
   "source": [
    "overlandflow(overlandflow_req)"
   ]
  }
 ],
 "metadata": {
  "kernelspec": {
   "display_name": "Python 3",
   "language": "python",
   "name": "python3"
  },
  "language_info": {
   "codemirror_mode": {
    "name": "ipython",
    "version": 3
   },
   "file_extension": ".py",
   "mimetype": "text/x-python",
   "name": "python",
   "nbconvert_exporter": "python",
   "pygments_lexer": "ipython3",
   "version": "3.8.5"
  }
 },
 "nbformat": 4,
 "nbformat_minor": 5
}
