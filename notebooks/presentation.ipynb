{
 "cells": [
  {
   "cell_type": "markdown",
   "id": "066e04a6",
   "metadata": {
    "slideshow": {
     "slide_type": "slide"
    }
   },
   "source": [
    "\n",
    "# [Meillionen](https://github.com/openmodelingfoundation/meillionen): Model Interfaces and Coupling\n",
    "\n",
    "## [Open Modeling Foundation](https://openmodelingfounation.github.io)\n",
    "\n",
    "Calvin Pritchard (calvin.pritchard@asu.edu)"
   ]
  },
  {
   "cell_type": "markdown",
   "id": "dd02ddf2",
   "metadata": {
    "slideshow": {
     "slide_type": "slide"
    }
   },
   "source": [
    "An Interface Definition Library for Existing Models\n",
    "\n",
    "- support remote access to models as command line programs\n",
    "- helps to validate, serialize and deserialize models interfaces and messages\n",
    "- intended to enable wrapping existing models by inspecting metadata"
   ]
  },
  {
   "cell_type": "markdown",
   "id": "d3d10c42",
   "metadata": {
    "slideshow": {
     "slide_type": "slide"
    }
   },
   "source": [
    "Concepts\n",
    "\n",
    "- validators\n",
    "- resources\n",
    "- functions\n",
    "- classes\n",
    "- modules\n",
    "- function requests\n",
    "- method requests"
   ]
  },
  {
   "cell_type": "markdown",
   "id": "fb995b1a",
   "metadata": {
    "slideshow": {
     "slide_type": "subslide"
    }
   },
   "source": [
    "Validators\n",
    "\n",
    "```\n",
    "table Validator {\n",
    "    name: string;\n",
    "    type_name: string;\n",
    "    payload: [ubyte];\n",
    "}\n",
    "```\n",
    "\n",
    "The validator schema is a payload with a name and a type_name. The type_name is a key that tells you the format of the payload. Payload is a binary buffer so that different schema formats can be added by other libraries. The name is the name of the sink or source that is associated with the validator"
   ]
  },
  {
   "cell_type": "markdown",
   "id": "832a1020",
   "metadata": {
    "slideshow": {
     "slide_type": "subslide"
    }
   },
   "source": [
    "An example validator that loads and saves using Pandas. The schema matches [Apache Arrows](https://arrow.apache.org/docs/python/data.html#schemas).\n",
    "\n",
    "```python\n",
    "PandasHandler.from_kwargs(\n",
    "    description='Daily soil characteristics',\n",
    "    columns={\n",
    "        'fields': [\n",
    "            {\n",
    "                'name': name,\n",
    "                'data_type': 'Float32'\n",
    "            } for name in\n",
    "            [\n",
    "                'day_of_year',\n",
    "                'soil_daily_runoff',\n",
    "                'soil_daily_infiltration',\n",
    "                'soil_daily_drainage',\n",
    "                'soil_evapotranspiration',\n",
    "                'soil_evaporation',\n",
    "                'soil_water_storage_depth',\n",
    "                'soil_water_profile_ratio',\n",
    "                'soil_water_deficit_stress',\n",
    "                'soil_water_excess_stress'\n",
    "            ]]})\n",
    "```"
   ]
  },
  {
   "cell_type": "markdown",
   "id": "7b7f7a40",
   "metadata": {
    "slideshow": {
     "slide_type": "subslide"
    }
   },
   "source": [
    "Resources\n",
    "\n",
    "Metadata used load or save data. Could contain actual data or just be a reference to it.\n",
    "\n",
    "```\n",
    "table Resource {\n",
    "    name: string;\n",
    "    type_name: string;\n",
    "    payload: [ubyte];\n",
    "}\n",
    "```"
   ]
  },
  {
   "cell_type": "markdown",
   "id": "9350ce99",
   "metadata": {
    "slideshow": {
     "slide_type": "subslide"
    }
   },
   "source": [
    "A reference to a ESRI ascii file. The base path and name parameters are usually added later determined from settings, context and the resource's associated name. \n",
    "\n",
    "```python\n",
    "BASE_DIR = '../../examples/crop-pipeline'\n",
    "INPUT_DIR = os.path.join(BASE_DIR, 'workflows/inputs')\n",
    "OUTPUT_DIR = os.path.join(BASE_DIR, 'workflows/outputs')\n",
    "\n",
    "# global settings for an experiment reside in experiment settings\n",
    "experiment = Experiment(\n",
    "    sinks=PathSettings(base_path=OUTPUT_DIR),\n",
    "    sources=PathSettings(base_path=INPUT_DIR)\n",
    ")\n",
    "# run specific settings reside in a trial\n",
    "trial = experiment.trial(\"2021-05-22\")\n",
    "\n",
    "partial_elevation = FileResource(ext='.asc')\n",
    "\n",
    "# This is typically handled for you by the framework.\n",
    "# It is normally done inside the function request and method request classes\n",
    "elevation = partial_elevation.build(settings=trial.sources, name='elevation')\n",
    "elevation.serialize()\n",
    "\n",
    "# b'{ \"path\": \"../../examples/crop-pipeline/workflows/input/elevation.asc\" }'\n",
    "```"
   ]
  },
  {
   "cell_type": "markdown",
   "id": "fb283ad9",
   "metadata": {
    "slideshow": {
     "slide_type": "subslide"
    }
   },
   "source": [
    "Function Interface\n",
    "\n",
    "The function interface defines what arguments the function expects and what the function is called\n",
    "\n",
    "```\n",
    "table FunctionInterface {\n",
    "    name: string;\n",
    "    sinks: [Validator];\n",
    "    sources: [Validator];\n",
    "}\n",
    "```"
   ]
  },
  {
   "cell_type": "markdown",
   "id": "5e75daeb",
   "metadata": {
    "slideshow": {
     "slide_type": "subslide"
    }
   },
   "source": [
    "A function interface definition can be created in Python by specifying how to handle and validate the sources and sinks used by the model.\n",
    "\n",
    "```python\n",
    "simplecrop_func_interface = FuncInterfaceServer(\n",
    "    name = 'run',\n",
    "    sources = {\n",
    "        'daily': PandasHandler.from_kwargs(...),\n",
    "        'yearly': PandasHandler.from_kwargs(...)\n",
    "    },\n",
    "    sinks = {\n",
    "        'plant': PandasHandler.from_kwargs(...),\n",
    "        'soil': PandasHandler.from_kwargs(...)\n",
    "    })\n",
    "```"
   ]
  },
  {
   "cell_type": "markdown",
   "id": "f21c7852",
   "metadata": {
    "slideshow": {
     "slide_type": "subslide"
    }
   },
   "source": [
    "Class Interface\n",
    "\n",
    "```\n",
    "table ClassInterface {\n",
    "    name: string;\n",
    "    type_name: string;\n",
    "    methods: [FunctionInterface];\n",
    "}\n",
    "```"
   ]
  },
  {
   "cell_type": "markdown",
   "id": "418e5add",
   "metadata": {
    "slideshow": {
     "slide_type": "subslide"
    }
   },
   "source": [
    "A class interface definition can be created in Python by specifying different function methods.\n",
    "\n",
    "```python\n",
    "simplecrop_class_interface = ClassInterfaceServer(\n",
    "    name = 'simplecrop',\n",
    "    methods=[\n",
    "        FuncInterfaceServer(\n",
    "            name = 'default_year_config',\n",
    "            sources = {},\n",
    "            sinks = {\n",
    "                'yearly': PandasHandler.from_kwargs(...)\n",
    "            }),\n",
    "        FuncInterfaceServer(\n",
    "            name = 'run',\n",
    "            sources = {\n",
    "                'daily': PandasHandler.from_kwargs(...),\n",
    "                'yearly': PandasHandler.from_kwargs(...)\n",
    "            },\n",
    "            sinks = {\n",
    "                'plant': PandasHandler.from_kwargs(...),\n",
    "                'soil': PandasHandler.from_kwargs(...)\n",
    "            })\n",
    "    ])\n",
    "```"
   ]
  },
  {
   "cell_type": "markdown",
   "id": "996378eb",
   "metadata": {
    "slideshow": {
     "slide_type": "subslide"
    }
   },
   "source": [
    "Module Interface\n",
    "\n",
    "```\n",
    "table ModuleInterface {\n",
    "    functions: [FunctionInterface];\n",
    "    classes: [ClassInterface];\n",
    "}\n",
    "```"
   ]
  },
  {
   "cell_type": "markdown",
   "id": "a9e87864",
   "metadata": {
    "slideshow": {
     "slide_type": "subslide"
    }
   },
   "source": [
    "A module interface definition can be created in Python by specifying function and class attributes\n",
    "\n",
    "```python\n",
    "simplecrop_module = ModuleInterfaceServer(\n",
    "    functions=[simplecrop_func_interface],\n",
    "    classes=[simplecrop_class_interface]\n",
    ")\n",
    "```\n",
    "\n",
    "It can be serialized to send to a client with\n",
    "\n",
    "```python\n",
    "serialized = simplecrop_module.serialize()\n",
    "```"
   ]
  },
  {
   "cell_type": "markdown",
   "id": "53ffe508",
   "metadata": {
    "slideshow": {
     "slide_type": "subslide"
    }
   },
   "source": [
    "Function Request\n",
    "\n",
    "```\n",
    "table FunctionRequest {\n",
    "    name: string;\n",
    "    sources: [Resource];\n",
    "    sinks: [Resource];\n",
    "}\n",
    "```"
   ]
  },
  {
   "cell_type": "markdown",
   "id": "d3377e92",
   "metadata": {
    "slideshow": {
     "slide_type": "subslide"
    }
   },
   "source": [
    "A request to a function endpoint (a command line program)\n",
    "\n",
    "```python\n",
    "overlandflow = ClientFunctionModel.from_path(\n",
    "    name='overlandflow', \n",
    "    path=os.path.join(BASE_DIR, 'overlandflow/model.py'),\n",
    "    trial=trial\n",
    ")\n",
    "\n",
    "elevation = FileResource(\".asc\")\n",
    "weather = FeatherResource()\n",
    "\n",
    "sources = {\n",
    "    'elevation': elevation,\n",
    "    'weather': weather\n",
    "}\n",
    "\n",
    "sinks = overlandflow.run(sources=sources)\n",
    "```"
   ]
  },
  {
   "cell_type": "markdown",
   "id": "85658e0e",
   "metadata": {
    "slideshow": {
     "slide_type": "subslide"
    }
   },
   "source": [
    "Method Request\n",
    "\n",
    "```\n",
    "table MethodRequest {\n",
    "    class_name: string;\n",
    "    method_name: string;\n",
    "    sources: [Resource];\n",
    "    sinks: [Resource];\n",
    "}\n",
    "```"
   ]
  },
  {
   "cell_type": "markdown",
   "id": "dad69529",
   "metadata": {
    "slideshow": {
     "slide_type": "subslide"
    }
   },
   "source": [
    "```python\n",
    "simplecrop = ClientClassModel.from_path(\n",
    "    name='simplecrop',\n",
    "    class_name='simplecrop',\n",
    "    path='simplecrop_omf',\n",
    "    trial=trial)\n",
    "\n",
    "sinks = simplecrop.default_year_config()\n",
    "```"
   ]
  },
  {
   "cell_type": "markdown",
   "id": "3c439e4c",
   "metadata": {
    "slideshow": {
     "slide_type": "slide"
    }
   },
   "source": [
    "BMI Interface Supported\n",
    "\n",
    "- intialize\n",
    "- get_input_var_names\n",
    "- get_input_var_type\n",
    "- get_output_var_names\n",
    "- get_output_var_type\n",
    "- get_value\n",
    "- set_value\n",
    "- update\n",
    "- finalize"
   ]
  },
  {
   "cell_type": "markdown",
   "id": "55f349f5",
   "metadata": {
    "slideshow": {
     "slide_type": "subslide"
    }
   },
   "source": [
    "BMI interface in action\n",
    "\n",
    "```python\n",
    "simplecrop_bmi = BMI(CLIRef(\n",
    "    name='simplecrop', \n",
    "    class_name='simplecrop', \n",
    "    path='simplecrop_omf'))\n",
    "simplecrop_bmi.initialize(trial=trial)\n",
    "\n",
    "simplecrop_bmi.get_input_var_names()\n",
    "simplecrop_bmi.get_output_var_names()\n",
    "\n",
    "simplecrop_bmi.set_value('daily', FeatherResource())\n",
    "simplecrop_bmi.set_value('yearly', FeatherResource())\n",
    "simplecrop_bmi.update()\n",
    "plant = simplecrop_bmi.get_value('plant')\n",
    "soil = simplecrop_bmi.get_value('soil')\n",
    "simplecrop_bmi.finalize() # no-op for this model\n",
    "```"
   ]
  },
  {
   "cell_type": "markdown",
   "id": "a1bf03a4",
   "metadata": {
    "slideshow": {
     "slide_type": "slide"
    }
   },
   "source": [
    "# Roadmap / Future Directions\n",
    "\n",
    "- distribute packages on PyPi for MacOS and Windows\n",
    "- make resource handling easily available to other packages\n",
    "- document how to build your own resource handlers\n",
    "- support model communication via grpc with [Arrow Flight](https://arrow.apache.org/docs/format/Flight.html) services\n",
    "- improve integration with [Prefect](https://docs.prefect.io/) (workflow manager)\n",
    "- contribute changes back to BMI / [PyMT](https://pymt.readthedocs.io/en/latest/)\n",
    "- support additional languages such as Java, Julia and R"
   ]
  },
  {
   "cell_type": "markdown",
   "id": "85cd92f9",
   "metadata": {
    "slideshow": {
     "slide_type": "slide"
    }
   },
   "source": [
    "# Challenges: Coupled Remote Models\n",
    "\n",
    "- How to call off to and setup remote coupled models (overlandflow is coupled with an infiltration model in the example)\n",
    "- The overlandflow creates a coupled model interface manually\n",
    "- Would be better to use existing model metadata to build an interface automatically (or at least partially automatically)\n",
    "-  Will work on using metadata in existing BMI models in the coming weeks to reduce boilerplate needed to wrap a model"
   ]
  },
  {
   "cell_type": "markdown",
   "id": "b7f00a40",
   "metadata": {
    "slideshow": {
     "slide_type": "slide"
    }
   },
   "source": [
    "# Challenges: Model Adapters\n",
    "\n",
    "- Name mismatches in dataframe columns and tensor dimensions between models require adapters right now\n",
    "- Resources for dataframes and tensors should have optional selected fields and field aliases to remove some of the times adapter functions / classes need to be created\n",
    "- More involved data transformation cases can make use of datafusion or other frameworks to provide an SQL interface so that joins, aggregates, selects and filters can be done to the data"
   ]
  },
  {
   "cell_type": "markdown",
   "id": "1897983c",
   "metadata": {
    "slideshow": {
     "slide_type": "slide"
    }
   },
   "source": [
    "# Challenges: Dynamic Interfaces\n",
    "\n",
    "- Some model interfaces may you may want to change based on input from a previous function\n",
    "  - Saving only particular variables in a simulation\n",
    "  - Type of source constrains type of sink (keep projection of source and use it in sink type)\n",
    "- Can be done with multiple methods and explicitly providing schema information "
   ]
  },
  {
   "cell_type": "markdown",
   "id": "3b82224f",
   "metadata": {
    "slideshow": {
     "slide_type": "slide"
    }
   },
   "source": [
    "# Resources\n",
    "\n",
    "- [meillionen](https://github.com/openmodelingfoundation/meillionen)\n",
    "- [PyMT](https://pymt.readthedocs.io/en/latest/)\n",
    "- [OMF](https://openmodelingfoundation.github.io)"
   ]
  }
 ],
 "metadata": {
  "celltoolbar": "Slideshow",
  "kernelspec": {
   "display_name": "Python 3",
   "language": "python",
   "name": "python3"
  },
  "language_info": {
   "codemirror_mode": {
    "name": "ipython",
    "version": 3
   },
   "file_extension": ".py",
   "mimetype": "text/x-python",
   "name": "python",
   "nbconvert_exporter": "python",
   "pygments_lexer": "ipython3",
   "version": "3.8.10"
  }
 },
 "nbformat": 4,
 "nbformat_minor": 5
}
