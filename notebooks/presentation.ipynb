{
 "cells": [
  {
   "cell_type": "markdown",
   "id": "066e04a6",
   "metadata": {
    "slideshow": {
     "slide_type": "slide"
    }
   },
   "source": [
    "\n",
    "# [Meillionen](https://github.com/openmodelingfoundation/meillionen): Model Interfaces and Coupling\n",
    "\n",
    "## [Open Modeling Foundation](https://openmodelingfounation.github.io)\n",
    "\n",
    "Calvin Pritchard (calvin.pritchard@asu.edu) CoMSES"
   ]
  },
  {
   "cell_type": "markdown",
   "id": "dd02ddf2",
   "metadata": {
    "slideshow": {
     "slide_type": "slide"
    }
   },
   "source": [
    "An Interface Definition Library for Existing Models\n",
    "\n",
    "- support remote access to models (right now command line programs)\n",
    "- help to validate, serialize and deserialize models interfaces and messages\n",
    "- intended to enable wrapping existing models by inspecting metadata"
   ]
  },
  {
   "cell_type": "markdown",
   "id": "d3d10c42",
   "metadata": {
    "slideshow": {
     "slide_type": "slide"
    }
   },
   "source": [
    "Concepts\n",
    "\n",
    "- schemas - declare the shape of source/sink data\n",
    "- resources - declare the location of data or contain data themselves\n",
    "- methods - have a name as well as a list of sink and source schemas to validate incoming requests \n",
    "- classes - have a name and a list of methods\n",
    "- method requests - have a class name and method name for routing to the appropriate class method as well as lists of sink and source resources"
   ]
  },
  {
   "cell_type": "markdown",
   "id": "8d64231d",
   "metadata": {
    "slideshow": {
     "slide_type": "slide"
    }
   },
   "source": [
    "![request_cycle](interaction.svg)"
   ]
  },
  {
   "cell_type": "markdown",
   "id": "f182fa92",
   "metadata": {
    "slideshow": {
     "slide_type": "slide"
    }
   },
   "source": [
    "![Request](request.svg)"
   ]
  },
  {
   "cell_type": "markdown",
   "id": "fb995b1a",
   "metadata": {
    "slideshow": {
     "slide_type": "subslide"
    }
   },
   "source": [
    "Schemas\n",
    "\n",
    "```\n",
    "table Schema {\n",
    "    name: string;\n",
    "    type_name: string;\n",
    "    payload: [ubyte];\n",
    "}\n",
    "```\n",
    "\n",
    "The schema is a payload with a name and a type_name. The type_name is a key that tells you the format of the payload. Payload is a binary buffer so that different schema formats can be added by other libraries. The name is the name of the sink or source that is associated with the validator"
   ]
  },
  {
   "cell_type": "markdown",
   "id": "832a1020",
   "metadata": {
    "slideshow": {
     "slide_type": "subslide"
    }
   },
   "source": [
    "An example schema that loads and saves using Pandas. The schema matches [Apache Arrows](https://arrow.apache.org/docs/python/data.html#schemas).\n",
    "\n",
    "```python\n",
    "PandasHandler.from_kwargs(\n",
    "    description='Daily soil characteristics',\n",
    "    columns={\n",
    "        'fields': [\n",
    "            {\n",
    "                'name': name,\n",
    "                'data_type': 'Float32'\n",
    "            } for name in\n",
    "            [\n",
    "                'day_of_year',\n",
    "                'soil_daily_runoff',\n",
    "                'soil_daily_infiltration',\n",
    "                'soil_daily_drainage',\n",
    "                'soil_evapotranspiration',\n",
    "                'soil_evaporation',\n",
    "                'soil_water_storage_depth',\n",
    "                'soil_water_profile_ratio',\n",
    "                'soil_water_deficit_stress',\n",
    "                'soil_water_excess_stress'\n",
    "            ]]})\n",
    "```"
   ]
  },
  {
   "cell_type": "markdown",
   "id": "fb283ad9",
   "metadata": {
    "slideshow": {
     "slide_type": "subslide"
    }
   },
   "source": [
    "Function Interface\n",
    "\n",
    "A function interface definition can be created in Python by specifying how to handle and validate the sources and sinks used by the model.\n",
    "\n",
    "\n",
    "```python\n",
    "simplecrop_func_interface = FuncInterfaceServer(\n",
    "    name = 'run',\n",
    "    sources = {\n",
    "        'daily': PandasHandler.from_kwargs(...),\n",
    "        'yearly': PandasHandler.from_kwargs(...)\n",
    "    },\n",
    "    sinks = {\n",
    "        'plant': PandasHandler.from_kwargs(...),\n",
    "        'soil': PandasHandler.from_kwargs(...)\n",
    "    })\n",
    "```"
   ]
  },
  {
   "cell_type": "markdown",
   "id": "418e5add",
   "metadata": {
    "slideshow": {
     "slide_type": "subslide"
    }
   },
   "source": [
    "A class interface definition can be created in Python by specifying different function methods.\n",
    "\n",
    "```python\n",
    "simplecrop_class_interface = ClassInterfaceServer(\n",
    "    name = 'simplecrop',\n",
    "    methods=[\n",
    "        FuncInterfaceServer(\n",
    "            name = 'default_year_config',\n",
    "            sources = {},\n",
    "            sinks = {\n",
    "                'yearly': PandasHandler.from_kwargs(...)\n",
    "            }),\n",
    "        FuncInterfaceServer(\n",
    "            name = 'run',\n",
    "            sources = {\n",
    "                'daily': PandasHandler.from_kwargs(...),\n",
    "                'yearly': PandasHandler.from_kwargs(...)\n",
    "            },\n",
    "            sinks = {\n",
    "                'plant': PandasHandler.from_kwargs(...),\n",
    "                'soil': PandasHandler.from_kwargs(...)\n",
    "            })\n",
    "    ])\n",
    "```"
   ]
  },
  {
   "cell_type": "markdown",
   "id": "dad69529",
   "metadata": {
    "slideshow": {
     "slide_type": "subslide"
    }
   },
   "source": [
    "```python\n",
    "simplecrop = ClientClassModel.from_path(\n",
    "    name='simplecrop',\n",
    "    class_name='simplecrop',\n",
    "    path='simplecrop_omf',\n",
    "    trial=trial)\n",
    "\n",
    "sinks = simplecrop.default_year_config()\n",
    "```"
   ]
  },
  {
   "cell_type": "markdown",
   "id": "d3377e92",
   "metadata": {
    "slideshow": {
     "slide_type": "subslide"
    }
   },
   "source": [
    "A request to a function endpoint (a command line program)\n",
    "\n",
    "```python\n",
    "overlandflow = ClientFunctionModel.from_path(\n",
    "    name='overlandflow', \n",
    "    path=os.path.join(BASE_DIR, 'overlandflow/model.py'),\n",
    "    trial=trial\n",
    ")\n",
    "\n",
    "elevation = FileResource(\".asc\")\n",
    "weather = FeatherResource()\n",
    "\n",
    "sources = {\n",
    "    'elevation': elevation,\n",
    "    'weather': weather\n",
    "}\n",
    "\n",
    "sinks = overlandflow.run(sources=sources)\n",
    "```"
   ]
  },
  {
   "cell_type": "markdown",
   "id": "3c439e4c",
   "metadata": {
    "slideshow": {
     "slide_type": "slide"
    }
   },
   "source": [
    "BMI Interface methods supported\n",
    "\n",
    "- intialize\n",
    "- get_input_var_names\n",
    "- get_input_var_type\n",
    "- get_output_var_names\n",
    "- get_output_var_type\n",
    "- get_value\n",
    "- set_value\n",
    "- update\n",
    "- finalize"
   ]
  },
  {
   "cell_type": "markdown",
   "id": "55f349f5",
   "metadata": {
    "slideshow": {
     "slide_type": "subslide"
    }
   },
   "source": [
    "BMI interface in action\n",
    "\n",
    "```python\n",
    "simplecrop_bmi = BMI(CLIRef(\n",
    "    name='simplecrop', \n",
    "    class_name='simplecrop', \n",
    "    path='simplecrop_omf'))\n",
    "simplecrop_bmi.initialize(trial=trial)\n",
    "\n",
    "simplecrop_bmi.get_input_var_names()\n",
    "simplecrop_bmi.get_output_var_names()\n",
    "\n",
    "simplecrop_bmi.set_value('daily', FeatherResource())\n",
    "simplecrop_bmi.set_value('yearly', FeatherResource())\n",
    "simplecrop_bmi.update()\n",
    "plant = simplecrop_bmi.get_value('plant')\n",
    "soil = simplecrop_bmi.get_value('soil')\n",
    "simplecrop_bmi.finalize()\n",
    "```"
   ]
  },
  {
   "cell_type": "markdown",
   "id": "a1bf03a4",
   "metadata": {
    "slideshow": {
     "slide_type": "slide"
    }
   },
   "source": [
    "# Roadmap / Future Directions\n",
    "\n",
    "- distribute packages on PyPi for MacOS and Windows\n",
    "- make resource handling easily available to other packages\n",
    "- document how to build your own resource handlers\n",
    "- support model communication via grpc with [Arrow Flight](https://arrow.apache.org/docs/format/Flight.html) services\n",
    "- improve integration with [Prefect](https://docs.prefect.io/) (workflow manager)\n",
    "- contribute changes back to BMI / [PyMT](https://pymt.readthedocs.io/en/latest/)\n",
    "- support additional languages such as Java, Julia and R"
   ]
  },
  {
   "cell_type": "markdown",
   "id": "ad40a1ac",
   "metadata": {
    "slideshow": {
     "slide_type": "slide"
    }
   },
   "source": [
    "# Questions for the audience\n",
    "\n",
    "- what sort of resources would need to be supported in order meillionen to be useful to you?\n",
    "- what sort of example wrappers around existing frameworks would you like to see?\n",
    "- what programming languages do we need to support in order for the framework to be useful?"
   ]
  },
  {
   "cell_type": "markdown",
   "id": "85cd92f9",
   "metadata": {
    "slideshow": {
     "slide_type": "slide"
    }
   },
   "source": [
    "# Challenges: Coupled Remote Models\n",
    "\n",
    "- How to call off to and setup remote coupled models (overlandflow is coupled with an infiltration model in the example)\n",
    "- The overlandflow creates a coupled model interface manually\n",
    "- Would be better to use existing model metadata to build an interface automatically (or at least partially automatically)\n",
    "-  Will work on using metadata in existing BMI models in the coming weeks to reduce boilerplate needed to wrap a model"
   ]
  },
  {
   "cell_type": "markdown",
   "id": "b7f00a40",
   "metadata": {
    "slideshow": {
     "slide_type": "slide"
    }
   },
   "source": [
    "# Challenges: Model Adapters\n",
    "\n",
    "- Name mismatches in dataframe columns and tensor dimensions between models require adapters right now\n",
    "- Resources for dataframes and tensors should have optional selected fields and field aliases to remove some of the times adapter functions / classes need to be created\n",
    "- More involved data transformation cases can make use of datafusion or other frameworks to provide an SQL interface so that joins, aggregates, selects and filters can be done to the data"
   ]
  },
  {
   "cell_type": "markdown",
   "id": "1897983c",
   "metadata": {
    "slideshow": {
     "slide_type": "slide"
    }
   },
   "source": [
    "# Challenges: Dynamic Interfaces\n",
    "\n",
    "- Some model interfaces may you may want to change based on input from a previous function\n",
    "  - Saving only particular variables in a simulation\n",
    "  - Type of source constrains type of sink (keep projection of source and use it in sink type)\n",
    "- Can be done with multiple methods and explicitly providing schema information "
   ]
  },
  {
   "cell_type": "markdown",
   "id": "3b82224f",
   "metadata": {
    "slideshow": {
     "slide_type": "slide"
    }
   },
   "source": [
    "# Resources\n",
    "\n",
    "- [meillionen](https://github.com/openmodelingfoundation/meillionen)\n",
    "- [PyMT](https://pymt.readthedocs.io/en/latest/)\n",
    "- [OMF](https://openmodelingfoundation.github.io)"
   ]
  }
 ],
 "metadata": {
  "celltoolbar": "Slideshow",
  "kernelspec": {
   "display_name": "Python 3",
   "language": "python",
   "name": "python3"
  },
  "language_info": {
   "codemirror_mode": {
    "name": "ipython",
    "version": 3
   },
   "file_extension": ".py",
   "mimetype": "text/x-python",
   "name": "python",
   "nbconvert_exporter": "python",
   "pygments_lexer": "ipython3",
   "version": "3.8.10"
  }
 },
 "nbformat": 4,
 "nbformat_minor": 5
}
